{
 "cells": [
  {
   "cell_type": "code",
   "execution_count": 1,
   "metadata": {},
   "outputs": [
    {
     "name": "stdout",
     "output_type": "stream",
     "text": [
      "enter your value : 2\n",
      "enter your value : 5\n",
      "enter operator : /\n",
      "0.4\n"
     ]
    }
   ],
   "source": [
    "val1 = int(input(\"enter your value : \"))\n",
    "val2 = int(input(\"enter your value : \"))\n",
    "operator = input(\"enter operator : \")\n",
    "if operator == '+' :\n",
    "    print(val1 + val2)\n",
    "elif operator == '-':\n",
    "        print(val1 - val2)\n",
    "elif operator == '*':\n",
    "            print(val1 * val2)\n",
    "elif operator == '/':\n",
    "            print(val1 / val2)\n",
    "elif operator == '**':\n",
    "    print(val1 ** val2)\n",
    "    \n",
    "else :\n",
    "         print(\"enter correct values\")"
   ]
  },
  {
   "cell_type": "code",
   "execution_count": null,
   "metadata": {},
   "outputs": [],
   "source": []
  }
 ],
 "metadata": {
  "kernelspec": {
   "display_name": "Python 3",
   "language": "python",
   "name": "python3"
  },
  "language_info": {
   "codemirror_mode": {
    "name": "ipython",
    "version": 3
   },
   "file_extension": ".py",
   "mimetype": "text/x-python",
   "name": "python",
   "nbconvert_exporter": "python",
   "pygments_lexer": "ipython3",
   "version": "3.7.4"
  }
 },
 "nbformat": 4,
 "nbformat_minor": 2
}
