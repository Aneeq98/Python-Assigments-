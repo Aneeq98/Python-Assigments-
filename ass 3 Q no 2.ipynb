{
 "cells": [
  {
   "cell_type": "code",
   "execution_count": 1,
   "metadata": {},
   "outputs": [
    {
     "name": "stdout",
     "output_type": "stream",
     "text": [
      "7 is a numeric value in list\n",
      "8 is a numeric value in list\n"
     ]
    }
   ],
   "source": [
    "arr = ['aneeq',7,8,'a','b']\n",
    "for i in arr:\n",
    "    if type(i) == int:\n",
    "        print(i,\"is a numeric value in list\")\n",
    "    elif type(i) == float:\n",
    "        print(i,\"is a numeric value in list\")"
   ]
  },
  {
   "cell_type": "code",
   "execution_count": null,
   "metadata": {},
   "outputs": [],
   "source": []
  }
 ],
 "metadata": {
  "kernelspec": {
   "display_name": "Python 3",
   "language": "python",
   "name": "python3"
  },
  "language_info": {
   "codemirror_mode": {
    "name": "ipython",
    "version": 3
   },
   "file_extension": ".py",
   "mimetype": "text/x-python",
   "name": "python",
   "nbconvert_exporter": "python",
   "pygments_lexer": "ipython3",
   "version": "3.7.4"
  }
 },
 "nbformat": 4,
 "nbformat_minor": 2
}
