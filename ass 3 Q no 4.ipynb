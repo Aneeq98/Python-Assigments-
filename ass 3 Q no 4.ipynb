{
 "cells": [
  {
   "cell_type": "code",
   "execution_count": 1,
   "metadata": {},
   "outputs": [
    {
     "name": "stdout",
     "output_type": "stream",
     "text": [
      "sum of all numeric items a dictionary is 12\n",
      "sum of all numeric items a dictionary is 27\n",
      "sum of all numeric items a dictionary is 44\n",
      "sum of all numeric items a dictionary is 65\n"
     ]
    }
   ],
   "source": [
    "dic = {\n",
    "    'num1' : 12,\n",
    "    'num2' : 15,\n",
    "    'string': 'name',\n",
    "    'char' : 'a',\n",
    "    'num3' : 17,\n",
    "    'num4' : 21,\n",
    "}\n",
    "\n",
    "sum = 0\n",
    "for i in dic.values():\n",
    "    if type(i) == int:\n",
    "        sum +=i\n",
    "        print(\"sum of all numeric items a dictionary is\" , sum)"
   ]
  },
  {
   "cell_type": "code",
   "execution_count": null,
   "metadata": {},
   "outputs": [],
   "source": []
  }
 ],
 "metadata": {
  "kernelspec": {
   "display_name": "Python 3",
   "language": "python",
   "name": "python3"
  },
  "language_info": {
   "codemirror_mode": {
    "name": "ipython",
    "version": 3
   },
   "file_extension": ".py",
   "mimetype": "text/x-python",
   "name": "python",
   "nbconvert_exporter": "python",
   "pygments_lexer": "ipython3",
   "version": "3.7.4"
  }
 },
 "nbformat": 4,
 "nbformat_minor": 2
}
